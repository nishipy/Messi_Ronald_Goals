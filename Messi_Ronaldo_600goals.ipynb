{
 "cells": [
  {
   "cell_type": "markdown",
   "metadata": {},
   "source": [
    "# Messi v.s. Ronaldo"
   ]
  },
  {
   "cell_type": "markdown",
   "metadata": {},
   "source": [
    "## Messiの全ゴール"
   ]
  },
  {
   "cell_type": "code",
   "execution_count": 1,
   "metadata": {},
   "outputs": [],
   "source": [
    "import urllib.request\n",
    "from bs4 import BeautifulSoup\n",
    "import pandas as pd\n",
    "import csv\n",
    "import re"
   ]
  },
  {
   "cell_type": "markdown",
   "metadata": {},
   "source": [
    "# ページの情報取得\n",
    "url = \"https://www.transfermarkt.com/lionel-messi/alletore/spieler/28003/saison//verein/0/liga/0/wettbewerb//pos/0/trainer_id/0/minute/0/torart/0/plus/1\"\n",
    "html = urlopen(url)\n",
    "encoding = html.info().get_content_charset(failobj=\"utf-8\")\n",
    "html = html.read().decode(encoding)\n",
    "soup = BeautifulSoup(html, 'html.parser')\n",
    "table = soup.find_all('table')[1]"
   ]
  },
  {
   "cell_type": "code",
   "execution_count": 2,
   "metadata": {},
   "outputs": [],
   "source": [
    "url = \"https://www.transfermarkt.com/lionel-messi/alletore/spieler/28003/saison//verein/0/liga/0/wettbewerb//pos/0/trainer_id/0/minute/0/torart/0/plus/1\"\n",
    "headers = {\n",
    "            \"User-Agent\": \"Mozilla/5.0 (X11; Ubuntu; Linux x86_64; rv:47.0) Gecko/20100101 Firefox/47.0\",\n",
    "          }\n",
    "\n",
    "request = urllib.request.Request(url=url, headers=headers)\n",
    "response = urllib.request.urlopen(request)\n",
    "\n",
    "encoding = response.info().get_content_charset(failobj=\"utf-8\")\n",
    "html = response.read().decode(encoding)"
   ]
  },
  {
   "cell_type": "code",
   "execution_count": 3,
   "metadata": {},
   "outputs": [],
   "source": [
    "soup = BeautifulSoup(html, 'html.parser')\n",
    "data = soup.find_all('table')[1]"
   ]
  },
  {
   "cell_type": "code",
   "execution_count": 4,
   "metadata": {},
   "outputs": [],
   "source": [
    "goal_types = ['Left-footed shot','Header','Right-footed shot','Penalty','Direct free kick', \n",
    "              'Chest', 'Penalty rebound', 'Counter attack goal', 'Long distance kick', \n",
    "              'Tap-in', 'Direct corner', 'Deflected shot on goal', 'Solo run']"
   ]
  },
  {
   "cell_type": "code",
   "execution_count": 5,
   "metadata": {},
   "outputs": [],
   "source": [
    "csv_contents = []\n",
    "tmp_list = []\n",
    "for td in data.find_all('td', {'class':['links no-border-links', 'zentriert', 'no-border-links hauptlink', '']}):\n",
    "    text = td.text.strip()\n",
    "    text = re.sub('\\xa0.*', '', text)\n",
    "    if re.match('^\\W', text):\n",
    "        continue\n",
    "    else:\n",
    "        tmp_list.append(text)\n",
    "        if text in goal_types:\n",
    "            if len(tmp_list) == 3:\n",
    "                copied_pre = csv_contents[-1][:10]\n",
    "                copied_pre.extend(tmp_list)\n",
    "                csv_contents.append(copied_pre)\n",
    "            elif len(tmp_list) == 16:\n",
    "                csv_contents.append(tmp_list[:13])\n",
    "                copied_pre = csv_contents[-1][:10]\n",
    "                copied_pre.extend(tmp_list[13:])\n",
    "                csv_contents.append(copied_pre)\n",
    "            else:\n",
    "                csv_contents.append(tmp_list)\n",
    "            tmp_list = []\n",
    "        else:\n",
    "            continue"
   ]
  },
  {
   "cell_type": "code",
   "execution_count": 6,
   "metadata": {},
   "outputs": [],
   "source": [
    "csv_headers = ['Unnecessary', 'Competition', 'Day', 'Date', 'HomeAway', 'Unnecessary', 'Unnecessary', 'Opponent',\n",
    "               'Result', 'Position','Minute', 'AtThisPoint','TypeOfGoal']"
   ]
  },
  {
   "cell_type": "code",
   "execution_count": 38,
   "metadata": {},
   "outputs": [],
   "source": [
    "with open('Messi_goals.csv', 'w', newline='') as f:\n",
    "    writer = csv.writer(f)\n",
    "    writer.writerow(csv_headers)\n",
    "    for row in csv_contents:\n",
    "        writer.writerow(row)"
   ]
  },
  {
   "cell_type": "markdown",
   "metadata": {},
   "source": [
    "## CSVの修正"
   ]
  },
  {
   "cell_type": "code",
   "execution_count": 39,
   "metadata": {},
   "outputs": [],
   "source": [
    "df_messi = pd.read_csv('Messi_goals.csv')"
   ]
  },
  {
   "cell_type": "code",
   "execution_count": 40,
   "metadata": {},
   "outputs": [],
   "source": [
    "del df_messi['Unnecessary']\n",
    "del df_messi['Unnecessary.1']\n",
    "del df_messi['Unnecessary.2']"
   ]
  },
  {
   "cell_type": "code",
   "execution_count": 41,
   "metadata": {},
   "outputs": [
    {
     "data": {
      "text/html": [
       "<div>\n",
       "<style scoped>\n",
       "    .dataframe tbody tr th:only-of-type {\n",
       "        vertical-align: middle;\n",
       "    }\n",
       "\n",
       "    .dataframe tbody tr th {\n",
       "        vertical-align: top;\n",
       "    }\n",
       "\n",
       "    .dataframe thead th {\n",
       "        text-align: right;\n",
       "    }\n",
       "</style>\n",
       "<table border=\"1\" class=\"dataframe\">\n",
       "  <thead>\n",
       "    <tr style=\"text-align: right;\">\n",
       "      <th></th>\n",
       "      <th>Competition</th>\n",
       "      <th>Day</th>\n",
       "      <th>Date</th>\n",
       "      <th>HomeAway</th>\n",
       "      <th>Opponent</th>\n",
       "      <th>Result</th>\n",
       "      <th>Position</th>\n",
       "      <th>Minute</th>\n",
       "      <th>AtThisPoint</th>\n",
       "      <th>TypeOfGoal</th>\n",
       "    </tr>\n",
       "  </thead>\n",
       "  <tbody>\n",
       "    <tr>\n",
       "      <th>0</th>\n",
       "      <td>LaLiga</td>\n",
       "      <td>34</td>\n",
       "      <td>5/1/05</td>\n",
       "      <td>H</td>\n",
       "      <td>Albacete</td>\n",
       "      <td>2:0</td>\n",
       "      <td>CF</td>\n",
       "      <td>90'+1</td>\n",
       "      <td>2:0</td>\n",
       "      <td>Left-footed shot</td>\n",
       "    </tr>\n",
       "    <tr>\n",
       "      <th>1</th>\n",
       "      <td>Champions League</td>\n",
       "      <td>Group Stage</td>\n",
       "      <td>11/2/05</td>\n",
       "      <td>H</td>\n",
       "      <td>Panathinaikos</td>\n",
       "      <td>5:0</td>\n",
       "      <td>RW</td>\n",
       "      <td>34'</td>\n",
       "      <td>3:0</td>\n",
       "      <td>Left-footed shot</td>\n",
       "    </tr>\n",
       "    <tr>\n",
       "      <th>2</th>\n",
       "      <td>LaLiga</td>\n",
       "      <td>13</td>\n",
       "      <td>11/27/05</td>\n",
       "      <td>H</td>\n",
       "      <td>Racing</td>\n",
       "      <td>4:1</td>\n",
       "      <td>RW</td>\n",
       "      <td>51'</td>\n",
       "      <td>2:0</td>\n",
       "      <td>Left-footed shot</td>\n",
       "    </tr>\n",
       "    <tr>\n",
       "      <th>3</th>\n",
       "      <td>LaLiga</td>\n",
       "      <td>19</td>\n",
       "      <td>1/15/06</td>\n",
       "      <td>H</td>\n",
       "      <td>Athletic</td>\n",
       "      <td>2:1</td>\n",
       "      <td>RW</td>\n",
       "      <td>50'</td>\n",
       "      <td>2:1</td>\n",
       "      <td>Left-footed shot</td>\n",
       "    </tr>\n",
       "    <tr>\n",
       "      <th>4</th>\n",
       "      <td>LaLiga</td>\n",
       "      <td>20</td>\n",
       "      <td>1/22/06</td>\n",
       "      <td>H</td>\n",
       "      <td>Alavés</td>\n",
       "      <td>2:0</td>\n",
       "      <td>CF</td>\n",
       "      <td>82'</td>\n",
       "      <td>2:0</td>\n",
       "      <td>Left-footed shot</td>\n",
       "    </tr>\n",
       "  </tbody>\n",
       "</table>\n",
       "</div>"
      ],
      "text/plain": [
       "        Competition          Day      Date HomeAway       Opponent Result  \\\n",
       "0            LaLiga           34    5/1/05        H       Albacete    2:0   \n",
       "1  Champions League  Group Stage   11/2/05        H  Panathinaikos    5:0   \n",
       "2            LaLiga           13  11/27/05        H         Racing    4:1   \n",
       "3            LaLiga           19   1/15/06        H       Athletic    2:1   \n",
       "4            LaLiga           20   1/22/06        H         Alavés    2:0   \n",
       "\n",
       "  Position Minute AtThisPoint        TypeOfGoal  \n",
       "0       CF  90'+1         2:0  Left-footed shot  \n",
       "1       RW    34'         3:0  Left-footed shot  \n",
       "2       RW    51'         2:0  Left-footed shot  \n",
       "3       RW    50'         2:1  Left-footed shot  \n",
       "4       CF    82'         2:0  Left-footed shot  "
      ]
     },
     "execution_count": 41,
     "metadata": {},
     "output_type": "execute_result"
    }
   ],
   "source": [
    "df_messi.head()"
   ]
  },
  {
   "cell_type": "code",
   "execution_count": 42,
   "metadata": {},
   "outputs": [
    {
     "name": "stdout",
     "output_type": "stream",
     "text": [
      "Competition     0\n",
      "Day             0\n",
      "Date            0\n",
      "HomeAway        0\n",
      "Opponent        0\n",
      "Result          0\n",
      "Position       32\n",
      "Minute          0\n",
      "AtThisPoint     0\n",
      "TypeOfGoal      1\n",
      "dtype: int64\n"
     ]
    }
   ],
   "source": [
    "print(df_messi.isnull().sum())"
   ]
  },
  {
   "cell_type": "code",
   "execution_count": 43,
   "metadata": {},
   "outputs": [
    {
     "name": "stdout",
     "output_type": "stream",
     "text": [
      "Competition    0\n",
      "Day            0\n",
      "Date           0\n",
      "HomeAway       0\n",
      "Opponent       0\n",
      "Result         0\n",
      "Position       0\n",
      "Minute         0\n",
      "AtThisPoint    0\n",
      "TypeOfGoal     0\n",
      "dtype: int64\n"
     ]
    }
   ],
   "source": [
    "df_messi = df_messi.fillna({'Position':'RW', 'TypeOfGoal':'Left-footed shot'})\n",
    "print(df_messi.isnull().sum())"
   ]
  },
  {
   "cell_type": "code",
   "execution_count": 44,
   "metadata": {},
   "outputs": [
    {
     "data": {
      "text/html": [
       "<div>\n",
       "<style scoped>\n",
       "    .dataframe tbody tr th:only-of-type {\n",
       "        vertical-align: middle;\n",
       "    }\n",
       "\n",
       "    .dataframe tbody tr th {\n",
       "        vertical-align: top;\n",
       "    }\n",
       "\n",
       "    .dataframe thead th {\n",
       "        text-align: right;\n",
       "    }\n",
       "</style>\n",
       "<table border=\"1\" class=\"dataframe\">\n",
       "  <thead>\n",
       "    <tr style=\"text-align: right;\">\n",
       "      <th></th>\n",
       "      <th>Competition</th>\n",
       "      <th>Day</th>\n",
       "      <th>Date</th>\n",
       "      <th>HomeAway</th>\n",
       "      <th>Opponent</th>\n",
       "      <th>Result</th>\n",
       "      <th>Position</th>\n",
       "      <th>Minute</th>\n",
       "      <th>AtThisPoint</th>\n",
       "      <th>TypeOfGoal</th>\n",
       "    </tr>\n",
       "  </thead>\n",
       "  <tbody>\n",
       "    <tr>\n",
       "      <th>0</th>\n",
       "      <td>LaLiga</td>\n",
       "      <td>34</td>\n",
       "      <td>5/1/05</td>\n",
       "      <td>H</td>\n",
       "      <td>Albacete</td>\n",
       "      <td>2:0</td>\n",
       "      <td>CF</td>\n",
       "      <td>90'+1</td>\n",
       "      <td>2:0</td>\n",
       "      <td>Left-footed shot</td>\n",
       "    </tr>\n",
       "    <tr>\n",
       "      <th>1</th>\n",
       "      <td>Champions League</td>\n",
       "      <td>Group Stage</td>\n",
       "      <td>11/2/05</td>\n",
       "      <td>H</td>\n",
       "      <td>Panathinaikos</td>\n",
       "      <td>5:0</td>\n",
       "      <td>RW</td>\n",
       "      <td>34'</td>\n",
       "      <td>3:0</td>\n",
       "      <td>Left-footed shot</td>\n",
       "    </tr>\n",
       "    <tr>\n",
       "      <th>2</th>\n",
       "      <td>LaLiga</td>\n",
       "      <td>13</td>\n",
       "      <td>11/27/05</td>\n",
       "      <td>H</td>\n",
       "      <td>Racing</td>\n",
       "      <td>4:1</td>\n",
       "      <td>RW</td>\n",
       "      <td>51'</td>\n",
       "      <td>2:0</td>\n",
       "      <td>Left-footed shot</td>\n",
       "    </tr>\n",
       "    <tr>\n",
       "      <th>3</th>\n",
       "      <td>LaLiga</td>\n",
       "      <td>19</td>\n",
       "      <td>1/15/06</td>\n",
       "      <td>H</td>\n",
       "      <td>Athletic</td>\n",
       "      <td>2:1</td>\n",
       "      <td>RW</td>\n",
       "      <td>50'</td>\n",
       "      <td>2:1</td>\n",
       "      <td>Left-footed shot</td>\n",
       "    </tr>\n",
       "    <tr>\n",
       "      <th>4</th>\n",
       "      <td>LaLiga</td>\n",
       "      <td>20</td>\n",
       "      <td>1/22/06</td>\n",
       "      <td>H</td>\n",
       "      <td>Alavés</td>\n",
       "      <td>2:0</td>\n",
       "      <td>CF</td>\n",
       "      <td>82'</td>\n",
       "      <td>2:0</td>\n",
       "      <td>Left-footed shot</td>\n",
       "    </tr>\n",
       "  </tbody>\n",
       "</table>\n",
       "</div>"
      ],
      "text/plain": [
       "        Competition          Day      Date HomeAway       Opponent Result  \\\n",
       "0            LaLiga           34    5/1/05        H       Albacete    2:0   \n",
       "1  Champions League  Group Stage   11/2/05        H  Panathinaikos    5:0   \n",
       "2            LaLiga           13  11/27/05        H         Racing    4:1   \n",
       "3            LaLiga           19   1/15/06        H       Athletic    2:1   \n",
       "4            LaLiga           20   1/22/06        H         Alavés    2:0   \n",
       "\n",
       "  Position Minute AtThisPoint        TypeOfGoal  \n",
       "0       CF  90'+1         2:0  Left-footed shot  \n",
       "1       RW    34'         3:0  Left-footed shot  \n",
       "2       RW    51'         2:0  Left-footed shot  \n",
       "3       RW    50'         2:1  Left-footed shot  \n",
       "4       CF    82'         2:0  Left-footed shot  "
      ]
     },
     "execution_count": 44,
     "metadata": {},
     "output_type": "execute_result"
    }
   ],
   "source": [
    "df_messi.head()"
   ]
  },
  {
   "cell_type": "code",
   "execution_count": 45,
   "metadata": {},
   "outputs": [],
   "source": [
    "df_messi.to_csv('Messi_goals.csv', index=False)"
   ]
  },
  {
   "cell_type": "markdown",
   "metadata": {},
   "source": [
    "## Ronaldoもついでに"
   ]
  },
  {
   "cell_type": "code",
   "execution_count": 47,
   "metadata": {},
   "outputs": [],
   "source": [
    "url = \"https://www.transfermarkt.com/cristiano-ronaldo/alletore/spieler/8198/saison//verein/0/liga/0/wettbewerb//pos/0/trainer_id/0/minute/0/torart/0/plus/1\"\n",
    "headers = {\n",
    "            \"User-Agent\": \"Mozilla/5.0 (X11; Ubuntu; Linux x86_64; rv:47.0) Gecko/20100101 Firefox/47.0\",\n",
    "          }\n",
    "\n",
    "request = urllib.request.Request(url=url, headers=headers)\n",
    "response = urllib.request.urlopen(request)\n",
    "\n",
    "encoding = response.info().get_content_charset(failobj=\"utf-8\")\n",
    "html = response.read().decode(encoding)"
   ]
  },
  {
   "cell_type": "code",
   "execution_count": 48,
   "metadata": {},
   "outputs": [],
   "source": [
    "soup = BeautifulSoup(html, 'html.parser')\n",
    "data = soup.find_all('table')[1]"
   ]
  },
  {
   "cell_type": "code",
   "execution_count": 55,
   "metadata": {},
   "outputs": [],
   "source": [
    "goal_types = ['Left-footed shot','Header','Right-footed shot','Penalty','Direct free kick', \n",
    "              'Chest', 'Penalty rebound', 'Counter attack goal', 'Long distance kick', \n",
    "              'Tap-in', 'Direct corner', 'Deflected shot on goal', 'Solo run']"
   ]
  },
  {
   "cell_type": "code",
   "execution_count": 66,
   "metadata": {},
   "outputs": [],
   "source": [
    "csv_contents = []\n",
    "tmp_list = []\n",
    "for td in data.find_all('td', {'class':['links no-border-links', 'zentriert', 'no-border-links hauptlink', '']}):\n",
    "    text = td.text.strip()\n",
    "    text = re.sub('\\xa0.*', '', text)\n",
    "    if re.match('^\\W', text):\n",
    "        continue\n",
    "    else:\n",
    "        tmp_list.append(text)\n",
    "        if text in goal_types:\n",
    "            if len(tmp_list) == 3:\n",
    "                copied_pre = csv_contents[-1][:10]\n",
    "                copied_pre.extend(tmp_list)\n",
    "                csv_contents.append(copied_pre)\n",
    "            elif len(tmp_list) == 16:\n",
    "                csv_contents.append(tmp_list[:13])\n",
    "                copied_pre = csv_contents[-1][:10]\n",
    "                copied_pre.extend(tmp_list[13:])\n",
    "                csv_contents.append(copied_pre)\n",
    "            elif len(tmp_list) == 26:\n",
    "                csv_contents.append(tmp_list[:13])\n",
    "                csv_contents.append(tmp_list[13:])\n",
    "            elif len(tmp_list) == 68:\n",
    "                csv_contents.append(tmp_list[:13])\n",
    "                copied_pre = csv_contents[-1][:10]\n",
    "                copied_pre.extend(tmp_list[13:16])\n",
    "                csv_contents.append(copied_pre)\n",
    "                csv_contents.append(tmp_list[16:29])\n",
    "                csv_contents.append(tmp_list[29:42])\n",
    "                csv_contents.append(tmp_list[42:55])\n",
    "                csv_contents.append(tmp_list[55:68])\n",
    "            elif len(tmp_list) == 29:\n",
    "                csv_contents.append(tmp_list[:13])\n",
    "                copied_pre = csv_contents[-1][:10]\n",
    "                copied_pre.extend(tmp_list[13:16])\n",
    "                csv_contents.append(copied_pre)\n",
    "                csv_contents.append(tmp_list[16:])\n",
    "            elif len(tmp_list) == 110:\n",
    "                csv_contents.append(tmp_list[:13])\n",
    "                csv_contents.append(tmp_list[13:26])\n",
    "                csv_contents.append(tmp_list[26:39])\n",
    "                csv_contents.append(tmp_list[39:52])\n",
    "                csv_contents.append(tmp_list[52:65])\n",
    "                csv_contents.append(tmp_list[65:78])\n",
    "                csv_contents.append(tmp_list[78:91])\n",
    "                \n",
    "                copied_pre = csv_contents[-1][:10]\n",
    "                copied_pre.extend(tmp_list[91:94])\n",
    "                csv_contents.append(copied_pre)\n",
    "                \n",
    "                csv_contents.append(tmp_list[94:107])\n",
    "                \n",
    "                copied_pre = csv_contents[-1][:10]\n",
    "                copied_pre.extend(tmp_list[107:])\n",
    "                csv_contents.append(copied_pre)\n",
    "            else:\n",
    "                csv_contents.append(tmp_list)\n",
    "            tmp_list = []\n",
    "        else:\n",
    "            continue"
   ]
  },
  {
   "cell_type": "code",
   "execution_count": 67,
   "metadata": {},
   "outputs": [],
   "source": [
    "csv_headers = ['Unnecessary', 'Competition', 'Day', 'Date', 'HomeAway', 'Unnecessary', 'Unnecessary', 'Opponent',\n",
    "               'Result', 'Position','Minute', 'AtThisPoint','TypeOfGoal']"
   ]
  },
  {
   "cell_type": "code",
   "execution_count": 68,
   "metadata": {},
   "outputs": [],
   "source": [
    "with open('Ronaldo_goals.csv', 'w', newline='') as f:\n",
    "    writer = csv.writer(f)\n",
    "    writer.writerow(csv_headers)\n",
    "    for row in csv_contents:\n",
    "        writer.writerow(row)"
   ]
  },
  {
   "cell_type": "code",
   "execution_count": 69,
   "metadata": {},
   "outputs": [],
   "source": [
    "df_Ronaldo = pd.read_csv('Ronaldo_goals.csv')"
   ]
  },
  {
   "cell_type": "code",
   "execution_count": 72,
   "metadata": {},
   "outputs": [],
   "source": [
    "del df_Ronaldo['Unnecessary']\n",
    "del df_Ronaldo['Unnecessary.1']\n",
    "del df_Ronaldo['Unnecessary.2']"
   ]
  },
  {
   "cell_type": "code",
   "execution_count": 74,
   "metadata": {},
   "outputs": [
    {
     "name": "stdout",
     "output_type": "stream",
     "text": [
      "Competition     0\n",
      "Day             0\n",
      "Date            0\n",
      "HomeAway        0\n",
      "Opponent        0\n",
      "Result          0\n",
      "Position       68\n",
      "Minute          0\n",
      "AtThisPoint     0\n",
      "TypeOfGoal     22\n",
      "dtype: int64\n"
     ]
    }
   ],
   "source": [
    "print(df_Ronaldo.isnull().sum())"
   ]
  },
  {
   "cell_type": "code",
   "execution_count": 75,
   "metadata": {},
   "outputs": [
    {
     "name": "stdout",
     "output_type": "stream",
     "text": [
      "Competition    0\n",
      "Day            0\n",
      "Date           0\n",
      "HomeAway       0\n",
      "Opponent       0\n",
      "Result         0\n",
      "Position       0\n",
      "Minute         0\n",
      "AtThisPoint    0\n",
      "TypeOfGoal     0\n",
      "dtype: int64\n"
     ]
    }
   ],
   "source": [
    "df_Ronaldo = df_Ronaldo.fillna({'Position':'RW', 'TypeOfGoal':'Not Reported'})\n",
    "print(df_Ronaldo.isnull().sum())"
   ]
  },
  {
   "cell_type": "code",
   "execution_count": 76,
   "metadata": {},
   "outputs": [],
   "source": [
    "df_Ronaldo.to_csv('Ronaldo_goals.csv', index=False)"
   ]
  },
  {
   "cell_type": "code",
   "execution_count": null,
   "metadata": {},
   "outputs": [],
   "source": []
  }
 ],
 "metadata": {
  "kernelspec": {
   "display_name": "Python 3",
   "language": "python",
   "name": "python3"
  },
  "language_info": {
   "codemirror_mode": {
    "name": "ipython",
    "version": 3
   },
   "file_extension": ".py",
   "mimetype": "text/x-python",
   "name": "python",
   "nbconvert_exporter": "python",
   "pygments_lexer": "ipython3",
   "version": "3.6.6"
  }
 },
 "nbformat": 4,
 "nbformat_minor": 2
}
